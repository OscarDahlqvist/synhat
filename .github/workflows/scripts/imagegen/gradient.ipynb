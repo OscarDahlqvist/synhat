{
 "cells": [
  {
   "cell_type": "code",
   "execution_count": null,
   "metadata": {},
   "outputs": [
    {
     "data": {
      "image/png": "[encoded data removed]",
      "text/plain": [
       "<Figure size 640x480 with 1 Axes>"
      ]
     },
     "metadata": {},
     "output_type": "display_data"
    }
   ],
   "source": [
    "import numpy as np\n",
    "from PIL import Image\n",
    "import hsluv\n",
    "import matplotlib.pyplot as plt\n",
    "\n",
    "\n",
    "# Function to create an HSLuv gradient losing saturation\n",
    "def generate_hsluv_gradient(width, height):\n",
    "    # Create an empty image array\n",
    "    image = np.zeros((height, width, 3), dtype=np.uint8)\n",
    "\n",
    "    saturation = 100\n",
    "\n",
    "    def heightToSat(heightPercent):\n",
    "        return 90*(1-heightPercent)\n",
    "\n",
    "    # Loop over each pixel to define its color in HSLuv\n",
    "    for y, lightness in ((y,heightToSat(y/height)) for y in range(height)):\n",
    "        for x, hue in ((x,360*(x/width)) for x in range(width)):\n",
    "            saturation \n",
    "            # Linearly interpolate saturation based on x position\n",
    "            rgb_color = hsluv.hsluv_to_rgb([hue, saturation, lightness])\n",
    "            # Convert RGB (0.0-1.0) to 8-bit (0-255)\n",
    "            rgb_color_255 = [int(c * 255) for c in rgb_color]\n",
    "            image[y, x] = rgb_color_255\n",
    "    \n",
    "    # Return the image\n",
    "    return Image.fromarray(image)\n",
    "\n",
    "# Generate an 8x8 gradient with HSLuv values\n",
    "gradient_image = generate_hsluv_gradient(8,8)\n",
    "\n",
    "# Save and display the gradient image\n",
    "plt.imshow(gradient_image, interpolation='none')\n",
    "gradient_image.save(\"./foo.png\")\n"
   ]
  },
  {
   "cell_type": "code",
   "execution_count": null,
   "metadata": {},
   "outputs": [],
   "source": [
    "\n"
   ]
  }
 ],
 "metadata": {
  "kernelspec": {
   "display_name": "Python 3",
   "language": "python",
   "name": "python3"
  },
  "language_info": {
   "codemirror_mode": {
    "name": "ipython",
    "version": 3
   },
   "file_extension": ".py",
   "mimetype": "text/x-python",
   "name": "python",
   "nbconvert_exporter": "python",
   "pygments_lexer": "ipython3",
   "version": "3.12.0"
  }
 },
 "nbformat": 4,
 "nbformat_minor": 2
}
